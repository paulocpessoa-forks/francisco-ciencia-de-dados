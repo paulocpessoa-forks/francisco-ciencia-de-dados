{
 "cells": [
  {
   "cell_type": "markdown",
   "metadata": {},
   "source": [
    "# Introdução à linguagem Python"
   ]
  },
  {
   "cell_type": "markdown",
   "metadata": {},
   "source": [
    "Francisco Aparecido Rodrigues, francisco@icmc.usp.br.<br>\n",
    "Universidade de São Paulo, São Carlos, Brasil.<br>\n",
    "https://sites.icmc.usp.br/francisco <br>\n",
    "Copyright: Creative Commons"
   ]
  },
  {
   "cell_type": "markdown",
   "metadata": {},
   "source": [
    "<hr>"
   ]
  },
  {
   "cell_type": "markdown",
   "metadata": {},
   "source": [
    "Nesta aula, vamos conhecer a linguagem de programação Python. Não precisamos entrar nos detalhes da linguagem, mas aprender as principais funcionalidades que são necessárias para processamento de dados."
   ]
  },
  {
   "cell_type": "markdown",
   "metadata": {},
   "source": [
    "Para inicarmos a programação em Python, precisamos fazer a sua instalação. Os detalhe sobre a instalação dependem do sistema operacional que está sendo usado. Na página oficial sobre a linguagem Python há um tutorial sobre a instalação: https://wiki.python.org/moin/BeginnersGuide/Download"
   ]
  },
  {
   "cell_type": "markdown",
   "metadata": {},
   "source": [
    "A página oficial da linguagem também oferece muita informação sobre comandos e conceitos e também diversos tutoriais: https://www.python.org/about/gettingstarted"
   ]
  },
  {
   "cell_type": "markdown",
   "metadata": {},
   "source": [
    "Uma boa alternativa para começar a pogramar em Python é considerar plataformas como Anaconda: https://www.anaconda.com/download/#macos"
   ]
  },
  {
   "cell_type": "markdown",
   "metadata": {},
   "source": [
    "Nessa plataforma, temos o Jupyter Notebook, que é o editor usado para preparar esse material. Para executar os comandos abaixo, vocês podem usar esse editor ou o Spyder, copiando e colando os comandos no editor."
   ]
  },
  {
   "cell_type": "markdown",
   "metadata": {},
   "source": [
    "## 0 Reiniciando variáveis"
   ]
  },
  {
   "cell_type": "markdown",
   "metadata": {},
   "source": [
    "Um aspecto importante da programação em Python é ter controle sobre as variáveis inicializadas. Por isso, é sempre importante reiniciar todas as variáveis sempre que um program em Python for implementado. Para \"limpar\" as variáveis, usamos os comandos:"
   ]
  },
  {
   "cell_type": "code",
   "execution_count": 65,
   "metadata": {},
   "outputs": [
    {
     "name": "stderr",
     "output_type": "stream",
     "text": [
      "/var/folders/r9/wxyy11vn2gl34ldw9tn2n87c0000gn/T/ipykernel_87141/1962577817.py:3: DeprecationWarning: `magic(...)` is deprecated since IPython 0.13 (warning added in 8.1), use run_line_magic(magic_name, parameter_s).\n",
      "  get_ipython().magic('reset -sf')\n"
     ]
    }
   ],
   "source": [
    "# Limpando as variaveis\n",
    "from IPython import get_ipython\n",
    "get_ipython().magic('reset -sf') "
   ]
  },
  {
   "cell_type": "markdown",
   "metadata": {},
   "source": [
    "Note que se chamarmos esses comandos após a inicalização, haverá uma mensagem de erro:"
   ]
  },
  {
   "cell_type": "code",
   "execution_count": 66,
   "metadata": {},
   "outputs": [
    {
     "name": "stderr",
     "output_type": "stream",
     "text": [
      "/var/folders/r9/wxyy11vn2gl34ldw9tn2n87c0000gn/T/ipykernel_87141/3177357466.py:6: DeprecationWarning: `magic(...)` is deprecated since IPython 0.13 (warning added in 8.1), use run_line_magic(magic_name, parameter_s).\n",
      "  get_ipython().magic('reset -sf')\n"
     ]
    },
    {
     "name": "stdout",
     "output_type": "stream",
     "text": [
      "x =  [1, 2, 3]\n"
     ]
    }
   ],
   "source": [
    "x = [1,2,3]\n",
    "print(\"x = \", x)\n",
    "\n",
    "# Limpando as variaveis\n",
    "from IPython import get_ipython\n",
    "get_ipython().magic('reset -sf') \n",
    "\n",
    "# print(\"x = \", x) # Note que um erro será mostrado, pois x foi reiniciada."
   ]
  },
  {
   "cell_type": "markdown",
   "metadata": {},
   "source": [
    "## 1 Tipos de dados"
   ]
  },
  {
   "cell_type": "markdown",
   "metadata": {},
   "source": [
    "A linguagem Python suporta diversos tipos de dados, como int, float e strings. Para varíaveis do tipo inteiro:"
   ]
  },
  {
   "cell_type": "code",
   "execution_count": 67,
   "metadata": {},
   "outputs": [
    {
     "name": "stdout",
     "output_type": "stream",
     "text": [
      "2\n"
     ]
    }
   ],
   "source": [
    "a = 2\n",
    "print(a)"
   ]
  },
  {
   "cell_type": "markdown",
   "metadata": {},
   "source": [
    "Float:"
   ]
  },
  {
   "cell_type": "code",
   "execution_count": 68,
   "metadata": {},
   "outputs": [
    {
     "name": "stdout",
     "output_type": "stream",
     "text": [
      "2.5\n"
     ]
    }
   ],
   "source": [
    "a = 2.5\n",
    "print(a)"
   ]
  },
  {
   "cell_type": "markdown",
   "metadata": {},
   "source": [
    "Também podemos converter de float para inteiro:"
   ]
  },
  {
   "cell_type": "code",
   "execution_count": 69,
   "metadata": {},
   "outputs": [
    {
     "name": "stdout",
     "output_type": "stream",
     "text": [
      "1\n"
     ]
    }
   ],
   "source": [
    "a = int(3/2)\n",
    "print(a)"
   ]
  },
  {
   "cell_type": "markdown",
   "metadata": {},
   "source": [
    "Números complexos:"
   ]
  },
  {
   "cell_type": "code",
   "execution_count": 70,
   "metadata": {},
   "outputs": [
    {
     "name": "stdout",
     "output_type": "stream",
     "text": [
      "(1.5+0.5j)\n"
     ]
    }
   ],
   "source": [
    "a=1.5+0.5j\n",
    "print(a)"
   ]
  },
  {
   "cell_type": "code",
   "execution_count": 71,
   "metadata": {},
   "outputs": [
    {
     "name": "stdout",
     "output_type": "stream",
     "text": [
      "Parte real: 1.5 Parte imaginária: 0.5\n"
     ]
    }
   ],
   "source": [
    "print('Parte real:', a.real, 'Parte imaginária:', a.imag)"
   ]
  },
  {
   "cell_type": "markdown",
   "metadata": {},
   "source": [
    "Tipos booleanos:"
   ]
  },
  {
   "cell_type": "code",
   "execution_count": 72,
   "metadata": {},
   "outputs": [
    {
     "name": "stdout",
     "output_type": "stream",
     "text": [
      "a =  False\n",
      "b =  True\n",
      "c =  False\n"
     ]
    }
   ],
   "source": [
    "a = 3 > 4\n",
    "print('a = ', a)\n",
    "b = True\n",
    "print('b = ', b)\n",
    "c = False\n",
    "print('c = ', c)"
   ]
  },
  {
   "cell_type": "markdown",
   "metadata": {},
   "source": [
    "Para determinar o tipo de uma variável:"
   ]
  },
  {
   "cell_type": "code",
   "execution_count": 73,
   "metadata": {},
   "outputs": [
    {
     "name": "stdout",
     "output_type": "stream",
     "text": [
      "Tipo de a: <class 'float'>\n",
      "Tipo de b: <class 'bool'>\n"
     ]
    }
   ],
   "source": [
    "a = 3.5\n",
    "print('Tipo de a:', type(a))\n",
    "b = False\n",
    "print('Tipo de b:', type(b))"
   ]
  },
  {
   "cell_type": "markdown",
   "metadata": {},
   "source": [
    "Para somar duas variáveis escalares:"
   ]
  },
  {
   "cell_type": "code",
   "execution_count": 74,
   "metadata": {},
   "outputs": [
    {
     "name": "stdout",
     "output_type": "stream",
     "text": [
      "z =  3\n"
     ]
    }
   ],
   "source": [
    "x = 1\n",
    "y = 2\n",
    "z = x + y\n",
    "print(\"z = \", z)"
   ]
  },
  {
   "cell_type": "markdown",
   "metadata": {},
   "source": [
    "Multiplicação e potenciação:"
   ]
  },
  {
   "cell_type": "code",
   "execution_count": 75,
   "metadata": {},
   "outputs": [
    {
     "name": "stdout",
     "output_type": "stream",
     "text": [
      "a*b =  4.6\n",
      "a^3 =  8\n"
     ]
    }
   ],
   "source": [
    "a = 2\n",
    "b = 2.3\n",
    "print(\"a*b = \", a*b)\n",
    "print('a^3 = ', a**3)"
   ]
  },
  {
   "cell_type": "markdown",
   "metadata": {},
   "source": [
    "Para determinarmos o resto de uma divisão:"
   ]
  },
  {
   "cell_type": "code",
   "execution_count": 76,
   "metadata": {},
   "outputs": [
    {
     "name": "stdout",
     "output_type": "stream",
     "text": [
      "1\n"
     ]
    }
   ],
   "source": [
    "a = 5%2\n",
    "print(a)"
   ]
  },
  {
   "cell_type": "markdown",
   "metadata": {},
   "source": [
    "### 1.1 Listas"
   ]
  },
  {
   "cell_type": "markdown",
   "metadata": {},
   "source": [
    "Uma lista é um conjunto de dados onde os elementos não precisam ser do mesmo tipo:"
   ]
  },
  {
   "cell_type": "code",
   "execution_count": 77,
   "metadata": {},
   "outputs": [
    {
     "name": "stdout",
     "output_type": "stream",
     "text": [
      "[1, 2, 'a', 'palavra', (1.5+0.5j)]\n"
     ]
    }
   ],
   "source": [
    "L = [1, 2, 'a', 'palavra', 1.5+0.5j]\n",
    "print(L)"
   ]
  },
  {
   "cell_type": "markdown",
   "metadata": {},
   "source": [
    "Para acessar um elemento da lista:"
   ]
  },
  {
   "cell_type": "code",
   "execution_count": 78,
   "metadata": {},
   "outputs": [
    {
     "name": "stdout",
     "output_type": "stream",
     "text": [
      "1 a\n"
     ]
    }
   ],
   "source": [
    "L = [1, 2, 'a', 'palavra', 2.5, 1.5+0.5j]\n",
    "print(L[0], L[2])"
   ]
  },
  {
   "cell_type": "markdown",
   "metadata": {},
   "source": [
    "Índices negativos são usados para acessar do final para o começo:"
   ]
  },
  {
   "cell_type": "code",
   "execution_count": 79,
   "metadata": {},
   "outputs": [
    {
     "name": "stdout",
     "output_type": "stream",
     "text": [
      "(1.5+0.5j) 2.5 palavra\n"
     ]
    }
   ],
   "source": [
    "L = [1, 2, 'a', 'palavra', 2.5, 1.5+0.5j]\n",
    "print(L[-1], L[-2], L[-3])"
   ]
  },
  {
   "cell_type": "markdown",
   "metadata": {},
   "source": [
    "Podemos acessar vários elementos de uma vez:"
   ]
  },
  {
   "cell_type": "code",
   "execution_count": 80,
   "metadata": {},
   "outputs": [
    {
     "ename": "NameError",
     "evalue": "name 'l' is not defined",
     "output_type": "error",
     "traceback": [
      "\u001B[0;31m---------------------------------------------------------------------------\u001B[0m",
      "\u001B[0;31mNameError\u001B[0m                                 Traceback (most recent call last)",
      "Input \u001B[0;32mIn [80]\u001B[0m, in \u001B[0;36m<cell line: 2>\u001B[0;34m()\u001B[0m\n\u001B[1;32m      1\u001B[0m L \u001B[38;5;241m=\u001B[39m [\u001B[38;5;241m1\u001B[39m, \u001B[38;5;241m2\u001B[39m, \u001B[38;5;124m'\u001B[39m\u001B[38;5;124ma\u001B[39m\u001B[38;5;124m'\u001B[39m, \u001B[38;5;124m'\u001B[39m\u001B[38;5;124mpalavra\u001B[39m\u001B[38;5;124m'\u001B[39m, \u001B[38;5;241m1.5\u001B[39m\u001B[38;5;241m+\u001B[39m\u001B[38;5;241m0.5\u001B[39mj]\n\u001B[0;32m----> 2\u001B[0m \u001B[38;5;28mprint\u001B[39m(\u001B[43ml\u001B[49m[\u001B[38;5;241m0\u001B[39m:\u001B[38;5;241m4\u001B[39m])\n",
      "\u001B[0;31mNameError\u001B[0m: name 'l' is not defined"
     ]
    }
   ],
   "source": [
    "L = [1, 2, 'a', 'palavra', 1.5+0.5j]\n",
    "print(l[0:4])"
   ]
  },
  {
   "cell_type": "markdown",
   "metadata": {},
   "source": [
    "Para adicionar um novo elemento na lista:"
   ]
  },
  {
   "cell_type": "code",
   "execution_count": null,
   "metadata": {},
   "outputs": [],
   "source": [
    "L = [1, 2, 'a', 'palavra', 2.5, 1.5+0.5j]\n",
    "L.append('Novo elemento')\n",
    "print(L)"
   ]
  },
  {
   "cell_type": "markdown",
   "metadata": {},
   "source": [
    "Para remover o último elemento:"
   ]
  },
  {
   "cell_type": "code",
   "execution_count": null,
   "metadata": {},
   "outputs": [],
   "source": [
    "L = [1, 2, 'a', 'palavra', 2.5, 1.5+0.5j]\n",
    "L.pop()\n",
    "print(L)"
   ]
  },
  {
   "cell_type": "markdown",
   "metadata": {},
   "source": [
    "Para inverter a ordem dos elementos:"
   ]
  },
  {
   "cell_type": "code",
   "execution_count": null,
   "metadata": {},
   "outputs": [],
   "source": [
    "L = [1, 2, 'a', 'palavra', 2.5, 1.5+0.5j]\n",
    "L = l[::-1]\n",
    "print(L)"
   ]
  },
  {
   "cell_type": "markdown",
   "metadata": {},
   "source": [
    "Para concatenar uma lista:"
   ]
  },
  {
   "cell_type": "code",
   "execution_count": null,
   "metadata": {},
   "outputs": [],
   "source": [
    "L = [1, 2, 'a', 'palavra', 2.5, 1.5+0.5j]\n",
    "k = [0, 9, 3, 'mundo']\n",
    "m = L + k\n",
    "print(m)"
   ]
  },
  {
   "cell_type": "markdown",
   "metadata": {},
   "source": [
    "Para repetir os elementos uma lista:"
   ]
  },
  {
   "cell_type": "code",
   "execution_count": null,
   "metadata": {},
   "outputs": [],
   "source": [
    "L = [1, 2, 'a', 'palavra', 2.5, 1.5+0.5j]\n",
    "k = 2*L\n",
    "print(k)"
   ]
  },
  {
   "cell_type": "markdown",
   "metadata": {},
   "source": [
    "Ordenando uma lista:"
   ]
  },
  {
   "cell_type": "code",
   "execution_count": null,
   "metadata": {},
   "outputs": [],
   "source": [
    "L = [4,3,1,5,6,8,9]\n",
    "L.sort()\n",
    "print(L)"
   ]
  },
  {
   "cell_type": "markdown",
   "metadata": {},
   "source": [
    "Note que a soma dos elementos de listas não é feita de forma direta:"
   ]
  },
  {
   "cell_type": "code",
   "execution_count": null,
   "metadata": {},
   "outputs": [],
   "source": [
    "x = [1,2,3]\n",
    "y = [4,5,6]\n",
    "z = x + y\n",
    "print('z = ', z)"
   ]
  },
  {
   "cell_type": "markdown",
   "metadata": {},
   "source": [
    "Para somar os elementos de uma lista, podemos usar a biblioteca numpy:"
   ]
  },
  {
   "cell_type": "code",
   "execution_count": null,
   "metadata": {
    "scrolled": true
   },
   "outputs": [],
   "source": [
    "import numpy as np\n",
    "x = [1,2,3]\n",
    "y = [4,5,6]\n",
    "z = np.add(x, y)\n",
    "print('z = ', z)"
   ]
  },
  {
   "cell_type": "markdown",
   "metadata": {},
   "source": [
    "Outra maneira de realizar essa soma é converter as listas para vetores."
   ]
  },
  {
   "cell_type": "code",
   "execution_count": null,
   "metadata": {},
   "outputs": [],
   "source": [
    "x = [1,2,3]\n",
    "x = np.array(x)\n",
    "y = [4,5,6]\n",
    "y = np.array(y)\n",
    "z = x + y\n",
    "print('z = ', z)"
   ]
  },
  {
   "cell_type": "markdown",
   "metadata": {},
   "source": [
    "### 1.2 Vetores e matrizes"
   ]
  },
  {
   "cell_type": "markdown",
   "metadata": {},
   "source": [
    "Vetores e matrizes não são tipos de dados padrões da linguagem Python. Para trabalharmos com dados numéricos, podemos usar a biblioteca Numpy, que é uma biblioteca científica para cálculo de vetores multidimensionais. "
   ]
  },
  {
   "cell_type": "markdown",
   "metadata": {},
   "source": [
    "Para maiores informações sobre essa biblioteca, vejam: https://numpy.org/"
   ]
  },
  {
   "cell_type": "markdown",
   "metadata": {},
   "source": [
    "As bibliotecas Numpy, SciPy e Matplotlib podem ser usadas de forma equivalente ao Matlab, possuindo funções bastante parecidas. Logo, para usurários de Matlab, a migração para Python é bastante simples. A linguamge Python também apresenta similaridades com a linguagem R. No entanto, C, C++, Java são bastante diferentes de Python."
   ]
  },
  {
   "cell_type": "markdown",
   "metadata": {},
   "source": [
    "Para definirmos dois vetores e realizamos a soma:"
   ]
  },
  {
   "cell_type": "code",
   "execution_count": 81,
   "metadata": {},
   "outputs": [
    {
     "name": "stdout",
     "output_type": "stream",
     "text": [
      "[8 9 3]\n"
     ]
    }
   ],
   "source": [
    "import numpy as np # os comandos da biblioteca numpy serao precedidos por 'np.'\n",
    "\n",
    "x = np.array([1,5,2])\n",
    "y = np.array([7,4,1])\n",
    "z = x + y\n",
    "print(z)"
   ]
  },
  {
   "cell_type": "markdown",
   "metadata": {},
   "source": [
    "Para iniciar um vetor com elementos iguais a zero ou um, usamos os seguintes comandos:"
   ]
  },
  {
   "cell_type": "code",
   "execution_count": 82,
   "metadata": {},
   "outputs": [
    {
     "name": "stdout",
     "output_type": "stream",
     "text": [
      "x =  [0. 0. 0.] y =  [1. 1. 1.]\n"
     ]
    }
   ],
   "source": [
    "import numpy as np\n",
    "N = 3\n",
    "x = np.zeros(N)\n",
    "y = np.ones(N)\n",
    "print(\"x = \", x, \"y = \", y)"
   ]
  },
  {
   "cell_type": "markdown",
   "metadata": {},
   "source": [
    "Para sabermos o tamanho de um vetor, usamos o comando:"
   ]
  },
  {
   "cell_type": "code",
   "execution_count": 83,
   "metadata": {},
   "outputs": [
    {
     "name": "stdout",
     "output_type": "stream",
     "text": [
      "N =  3\n"
     ]
    }
   ],
   "source": [
    "x = [1,2,3]\n",
    "x = np.array(x)\n",
    "N = np.shape(x)[0]\n",
    "print(\"N = \", N)"
   ]
  },
  {
   "cell_type": "markdown",
   "metadata": {},
   "source": [
    "O produto escalar de dois vetores:"
   ]
  },
  {
   "cell_type": "code",
   "execution_count": 84,
   "metadata": {},
   "outputs": [
    {
     "name": "stdout",
     "output_type": "stream",
     "text": [
      "27\n"
     ]
    }
   ],
   "source": [
    "x = np.array([1,2,3])\n",
    "y = np.array([1,4,6])\n",
    "z = np.dot(x,y)\n",
    "print(z)"
   ]
  },
  {
   "cell_type": "markdown",
   "metadata": {},
   "source": [
    "E o produto vetorial:"
   ]
  },
  {
   "cell_type": "code",
   "execution_count": 85,
   "metadata": {},
   "outputs": [
    {
     "name": "stdout",
     "output_type": "stream",
     "text": [
      "[-1  0  0]\n"
     ]
    }
   ],
   "source": [
    "x = np.array([0,0,1])\n",
    "y = np.array([0,1,0])\n",
    "z = np.cross(x,y)\n",
    "print(z)"
   ]
  },
  {
   "cell_type": "markdown",
   "metadata": {},
   "source": [
    "Além de vetores, podemos definir variáveis como matrizes. Uma maneira é considerar uma lista de listas:"
   ]
  },
  {
   "cell_type": "code",
   "execution_count": 86,
   "metadata": {},
   "outputs": [
    {
     "name": "stdout",
     "output_type": "stream",
     "text": [
      "A =  [[1, 2, 3], [4, 5, 6], [7, 8, 9]]\n"
     ]
    }
   ],
   "source": [
    "A = [[1,2,3], [4,5,6], [7,8,9]]\n",
    "print(\"A = \", A)"
   ]
  },
  {
   "cell_type": "markdown",
   "metadata": {},
   "source": [
    "Nesse caso, deve-se atentar para a operação \"+\", que não representa a soma dos elementos, mas uma união de listas."
   ]
  },
  {
   "cell_type": "code",
   "execution_count": 87,
   "metadata": {},
   "outputs": [
    {
     "name": "stdout",
     "output_type": "stream",
     "text": [
      "C =  [[1, 2, 3], [4, 5, 6], [7, 8, 9], [-1, -2, -3], [1, 1, 1], [0, 0, 0]]\n"
     ]
    }
   ],
   "source": [
    "A = [[1,2,3], [4,5,6], [7,8,9]]\n",
    "B = [[-1,-2,-3], [1,1,1], [0,0,0]]\n",
    "C = A + B\n",
    "print(\"C = \", C)"
   ]
  },
  {
   "cell_type": "markdown",
   "metadata": {},
   "source": [
    "Para usar matrizes de maneira usual, é mais adequado consideramos a biblioteca Numpy:"
   ]
  },
  {
   "cell_type": "code",
   "execution_count": 88,
   "metadata": {},
   "outputs": [
    {
     "name": "stdout",
     "output_type": "stream",
     "text": [
      "A = \n",
      " [[1 2 3]\n",
      " [4 5 6]\n",
      " [7 8 9]]\n",
      "B = \n",
      " [[10 11 12]\n",
      " [13 14 15]\n",
      " [16 17 18]]\n",
      "C =2*(A + B) = \n",
      " [[22 26 30]\n",
      " [34 38 42]\n",
      " [46 50 54]]\n"
     ]
    }
   ],
   "source": [
    "A = np.array([[1,2,3], [4,5,6], [7,8,9]])\n",
    "B = np.array([[10,11,12], [13,14,15], [16,17,18]])\n",
    "C = 2*(A + B)\n",
    "print(\"A = \\n\", A)\n",
    "print(\"B = \\n\", B)\n",
    "print(\"C =2*(A + B) = \\n\", C)"
   ]
  },
  {
   "cell_type": "markdown",
   "metadata": {},
   "source": [
    "Para saber o número de linhas e colunas em uma matriz, usamos:"
   ]
  },
  {
   "cell_type": "code",
   "execution_count": 89,
   "metadata": {},
   "outputs": [
    {
     "name": "stdout",
     "output_type": "stream",
     "text": [
      "A = \n",
      " [[1 2 3]\n",
      " [4 5 6]]\n",
      "Numero de linhas: 2 \n",
      "Numero de colunas: 3\n"
     ]
    }
   ],
   "source": [
    "A = np.array([[1,2,3], [4,5,6]])\n",
    "[nrow, ncol] = np.shape(A)\n",
    "print(\"A = \\n\", A)\n",
    "print(\"Numero de linhas:\", nrow, \"\\nNumero de colunas:\", ncol,)"
   ]
  },
  {
   "cell_type": "markdown",
   "metadata": {},
   "source": [
    "Para elevar os elementos de um vetor a uma data potência:"
   ]
  },
  {
   "cell_type": "code",
   "execution_count": 90,
   "metadata": {},
   "outputs": [
    {
     "name": "stdout",
     "output_type": "stream",
     "text": [
      "[ 1  8 27]\n"
     ]
    }
   ],
   "source": [
    "x = np.array([1,2,3])\n",
    "y = x**3\n",
    "print(y)"
   ]
  },
  {
   "cell_type": "markdown",
   "metadata": {},
   "source": [
    "Também podemos usar a função pow():"
   ]
  },
  {
   "cell_type": "code",
   "execution_count": 91,
   "metadata": {},
   "outputs": [
    {
     "name": "stdout",
     "output_type": "stream",
     "text": [
      "[ 1  8 27]\n"
     ]
    }
   ],
   "source": [
    "n = 3\n",
    "x = np.array([1,2,3])\n",
    "y = pow(x,n)\n",
    "print(y)"
   ]
  },
  {
   "cell_type": "markdown",
   "metadata": {},
   "source": [
    "### 1.3 Strings"
   ]
  },
  {
   "cell_type": "markdown",
   "metadata": {},
   "source": [
    "Para definirmos uma string:"
   ]
  },
  {
   "cell_type": "code",
   "execution_count": 92,
   "metadata": {},
   "outputs": [],
   "source": [
    "s = 'Hello world'"
   ]
  },
  {
   "cell_type": "markdown",
   "metadata": {},
   "source": [
    "Uma string é intepretada como uma lista de caracteres:"
   ]
  },
  {
   "cell_type": "code",
   "execution_count": 93,
   "metadata": {},
   "outputs": [
    {
     "name": "stdout",
     "output_type": "stream",
     "text": [
      "Hello\n"
     ]
    }
   ],
   "source": [
    "print(s[0:5])"
   ]
  },
  {
   "cell_type": "markdown",
   "metadata": {},
   "source": [
    "Podemos realizar operações em strings:"
   ]
  },
  {
   "cell_type": "code",
   "execution_count": 94,
   "metadata": {},
   "outputs": [
    {
     "name": "stdout",
     "output_type": "stream",
     "text": [
      "HelloWorld\n",
      "Hello\tWorld\n"
     ]
    }
   ],
   "source": [
    "s = 'Hello'\n",
    "t = 'World'\n",
    "v = s + t\n",
    "print(v)\n",
    "print(s + '\\t' + t)"
   ]
  },
  {
   "cell_type": "code",
   "execution_count": 95,
   "metadata": {},
   "outputs": [
    {
     "name": "stdout",
     "output_type": "stream",
     "text": [
      "AAAA\n"
     ]
    }
   ],
   "source": [
    "s = 'A'\n",
    "t = 4*s\n",
    "print(t)"
   ]
  },
  {
   "cell_type": "markdown",
   "metadata": {},
   "source": [
    "Podemos procurar uma palavra dentro de uma frase com operador 'in':"
   ]
  },
  {
   "cell_type": "code",
   "execution_count": 96,
   "metadata": {},
   "outputs": [
    {
     "data": {
      "text/plain": "True"
     },
     "execution_count": 96,
     "metadata": {},
     "output_type": "execute_result"
    }
   ],
   "source": [
    "s = 'Mundo'\n",
    "s in 'Mundo, mundo vasto mundo.'"
   ]
  },
  {
   "cell_type": "code",
   "execution_count": 97,
   "metadata": {},
   "outputs": [
    {
     "data": {
      "text/plain": "False"
     },
     "execution_count": 97,
     "metadata": {},
     "output_type": "execute_result"
    }
   ],
   "source": [
    "s in 'A Terra é um planeta azul.'"
   ]
  },
  {
   "cell_type": "markdown",
   "metadata": {},
   "source": [
    "Para sabermos o tamanho de uma string:"
   ]
  },
  {
   "cell_type": "code",
   "execution_count": 98,
   "metadata": {},
   "outputs": [
    {
     "name": "stdout",
     "output_type": "stream",
     "text": [
      "5\n"
     ]
    }
   ],
   "source": [
    "s = 'Hello'\n",
    "print(len(s))"
   ]
  },
  {
   "cell_type": "markdown",
   "metadata": {},
   "source": [
    "Podemos ainda converter números para string com a função 'str':"
   ]
  },
  {
   "cell_type": "code",
   "execution_count": 99,
   "metadata": {},
   "outputs": [
    {
     "name": "stdout",
     "output_type": "stream",
     "text": [
      "O número 2 é par\n"
     ]
    }
   ],
   "source": [
    "x = 2\n",
    "s = 'O número ' + str(x) + ' é par'\n",
    "print(s)"
   ]
  },
  {
   "cell_type": "code",
   "execution_count": 100,
   "metadata": {},
   "outputs": [
    {
     "name": "stdout",
     "output_type": "stream",
     "text": [
      "Pi é igual a 3.141592653589793\n"
     ]
    }
   ],
   "source": [
    "s = 'Pi é igual a ' + str(np.pi)\n",
    "print(s)"
   ]
  },
  {
   "cell_type": "markdown",
   "metadata": {},
   "source": [
    "Podemos acessar apenas alguns dos elementos da string:"
   ]
  },
  {
   "cell_type": "code",
   "execution_count": 101,
   "metadata": {},
   "outputs": [
    {
     "name": "stdout",
     "output_type": "stream",
     "text": [
      "ACEG\n"
     ]
    }
   ],
   "source": [
    "s = 'ABCDEFGHIJK'\n",
    "print(s[0:8:2]) # comecando na posicao 0 e selecionando de 2 em 2."
   ]
  },
  {
   "cell_type": "markdown",
   "metadata": {},
   "source": [
    "Mostrando o valor de uma string (notem o caracter 'f' dentro da função print):"
   ]
  },
  {
   "cell_type": "code",
   "execution_count": 102,
   "metadata": {},
   "outputs": [
    {
     "name": "stdout",
     "output_type": "stream",
     "text": [
      "The product of 20 and 25 is 500\n"
     ]
    }
   ],
   "source": [
    "n = 20\n",
    "m = 25\n",
    "prod = n * m\n",
    "print(f'The product of {n} and {m} is {prod}')"
   ]
  },
  {
   "cell_type": "markdown",
   "metadata": {},
   "source": [
    "Podemos substituir um valor em uma string usando o comando replace:"
   ]
  },
  {
   "cell_type": "code",
   "execution_count": 103,
   "metadata": {},
   "outputs": [
    {
     "name": "stdout",
     "output_type": "stream",
     "text": [
      "Hello Earth\n"
     ]
    }
   ],
   "source": [
    "s = 'Hello world'\n",
    "x = 'Earth'\n",
    "s = s.replace('world', x)\n",
    "print(s)"
   ]
  },
  {
   "cell_type": "markdown",
   "metadata": {},
   "source": [
    "Mundando para letras minúsculas ou maíusculas:"
   ]
  },
  {
   "cell_type": "code",
   "execution_count": 104,
   "metadata": {},
   "outputs": [
    {
     "data": {
      "text/plain": "'hello world'"
     },
     "execution_count": 104,
     "metadata": {},
     "output_type": "execute_result"
    }
   ],
   "source": [
    "'HELLo worlD'.lower()"
   ]
  },
  {
   "cell_type": "code",
   "execution_count": 105,
   "metadata": {},
   "outputs": [
    {
     "data": {
      "text/plain": "'HELLO WORLD'"
     },
     "execution_count": 105,
     "metadata": {},
     "output_type": "execute_result"
    }
   ],
   "source": [
    "s = 'HeLLo world'\n",
    "s.upper()"
   ]
  },
  {
   "cell_type": "markdown",
   "metadata": {},
   "source": [
    "Outros comandos úteis:"
   ]
  },
  {
   "cell_type": "code",
   "execution_count": 106,
   "metadata": {},
   "outputs": [
    {
     "data": {
      "text/plain": "3"
     },
     "execution_count": 106,
     "metadata": {},
     "output_type": "execute_result"
    }
   ],
   "source": [
    "'este eh um teste'.count('te')"
   ]
  },
  {
   "cell_type": "code",
   "execution_count": 107,
   "metadata": {},
   "outputs": [
    {
     "data": {
      "text/plain": "True"
     },
     "execution_count": 107,
     "metadata": {},
     "output_type": "execute_result"
    }
   ],
   "source": [
    "'comando'.endswith('do')"
   ]
  },
  {
   "cell_type": "code",
   "execution_count": 108,
   "metadata": {},
   "outputs": [
    {
     "data": {
      "text/plain": "8"
     },
     "execution_count": 108,
     "metadata": {},
     "output_type": "execute_result"
    }
   ],
   "source": [
    "'esta eh uma sentenca'.find('uma')"
   ]
  },
  {
   "cell_type": "code",
   "execution_count": 109,
   "metadata": {},
   "outputs": [
    {
     "data": {
      "text/plain": "-1"
     },
     "execution_count": 109,
     "metadata": {},
     "output_type": "execute_result"
    }
   ],
   "source": [
    "'esta eh uma sentenca'.find('nada')"
   ]
  },
  {
   "cell_type": "code",
   "execution_count": 110,
   "metadata": {},
   "outputs": [
    {
     "data": {
      "text/plain": "'O mundo é grande.'"
     },
     "execution_count": 110,
     "metadata": {},
     "output_type": "execute_result"
    }
   ],
   "source": [
    "'O mundo é pequeno.'.replace('pequeno', 'grande')"
   ]
  },
  {
   "cell_type": "code",
   "execution_count": 111,
   "metadata": {},
   "outputs": [
    {
     "name": "stdout",
     "output_type": "stream",
     "text": [
      "['w', 'o', 'r', 'l', 'd']\n"
     ]
    },
    {
     "data": {
      "text/plain": "'w:o:r:l:d'"
     },
     "execution_count": 111,
     "metadata": {},
     "output_type": "execute_result"
    }
   ],
   "source": [
    "l = list('world')\n",
    "print(l)\n",
    "':'.join('world')"
   ]
  },
  {
   "cell_type": "code",
   "execution_count": 112,
   "metadata": {},
   "outputs": [
    {
     "data": {
      "text/plain": "['esta', 'eh', 'uma', 'setenca']"
     },
     "execution_count": 112,
     "metadata": {},
     "output_type": "execute_result"
    }
   ],
   "source": [
    "'esta eh uma setenca'.rsplit()"
   ]
  },
  {
   "cell_type": "code",
   "execution_count": 113,
   "metadata": {},
   "outputs": [
    {
     "data": {
      "text/plain": "['www', 'amazon', 'com', 'br']"
     },
     "execution_count": 113,
     "metadata": {},
     "output_type": "execute_result"
    }
   ],
   "source": [
    "'www.amazon.com.br'.rsplit(sep='.', maxsplit=3)"
   ]
  },
  {
   "cell_type": "markdown",
   "metadata": {},
   "source": [
    "Para saber mais sobre strings: https://realpython.com/python-strings/"
   ]
  },
  {
   "cell_type": "markdown",
   "metadata": {},
   "source": [
    "### 1.4 Dicionários"
   ]
  },
  {
   "cell_type": "markdown",
   "metadata": {},
   "source": [
    "Dicionários são similares a listas, mas podem usar qualquer tipo imutavel de dados como indice."
   ]
  },
  {
   "cell_type": "code",
   "execution_count": 114,
   "metadata": {},
   "outputs": [
    {
     "name": "stdout",
     "output_type": "stream",
     "text": [
      "{'Antonio': 5752, 'Maria': 5578, 'Paulo': 5915}\n",
      "5752\n"
     ]
    }
   ],
   "source": [
    "tel = {'Antonio': 5752, 'Maria': 5578}\n",
    "tel['Paulo'] = 5915\n",
    "print(tel)\n",
    "print(tel['Antonio'])"
   ]
  },
  {
   "cell_type": "markdown",
   "metadata": {},
   "source": [
    "Para acessar as chaves:"
   ]
  },
  {
   "cell_type": "code",
   "execution_count": 115,
   "metadata": {},
   "outputs": [
    {
     "data": {
      "text/plain": "dict_keys(['Antonio', 'Maria', 'Paulo'])"
     },
     "execution_count": 115,
     "metadata": {},
     "output_type": "execute_result"
    }
   ],
   "source": [
    "tel.keys()"
   ]
  },
  {
   "cell_type": "markdown",
   "metadata": {},
   "source": [
    "E o valores armazenados:"
   ]
  },
  {
   "cell_type": "code",
   "execution_count": 116,
   "metadata": {},
   "outputs": [
    {
     "data": {
      "text/plain": "dict_values([5752, 5578, 5915])"
     },
     "execution_count": 116,
     "metadata": {},
     "output_type": "execute_result"
    }
   ],
   "source": [
    "tel.values()"
   ]
  },
  {
   "cell_type": "markdown",
   "metadata": {},
   "source": [
    "Dicionários podem armazenar tipos diferentes:"
   ]
  },
  {
   "cell_type": "code",
   "execution_count": 117,
   "metadata": {},
   "outputs": [
    {
     "name": "stdout",
     "output_type": "stream",
     "text": [
      "{'a': 1, 'b': 2, 3: 'hello'}\n"
     ]
    }
   ],
   "source": [
    "d = {'a':1, 'b':2, 3:'hello'}\n",
    "print(d)"
   ]
  },
  {
   "cell_type": "markdown",
   "metadata": {},
   "source": [
    "Podemos realizar operações com dicionários:"
   ]
  },
  {
   "cell_type": "code",
   "execution_count": 118,
   "metadata": {},
   "outputs": [
    {
     "name": "stdout",
     "output_type": "stream",
     "text": [
      "{'abacaxis': 10, 'bananas': 24, 'laranjas': 36}\n"
     ]
    }
   ],
   "source": [
    "estoque = {'abacaxis': 10, 'bananas': 24, 'laranjas': 36, 'peras': 12}\n",
    "del estoque['peras']\n",
    "print(estoque)"
   ]
  },
  {
   "cell_type": "code",
   "execution_count": 119,
   "metadata": {},
   "outputs": [
    {
     "name": "stdout",
     "output_type": "stream",
     "text": [
      "{'abacaxis': 20, 'bananas': 24, 'laranjas': 36}\n"
     ]
    }
   ],
   "source": [
    "estoque['abacaxis'] = estoque['abacaxis'] + 10\n",
    "print(estoque)"
   ]
  },
  {
   "cell_type": "markdown",
   "metadata": {},
   "source": [
    "Dicionários podem ser usados para criar histogramas:"
   ]
  },
  {
   "cell_type": "code",
   "execution_count": 120,
   "metadata": {},
   "outputs": [
    {
     "name": "stdout",
     "output_type": "stream",
     "text": [
      "{'b': 1, 'a': 3, 'n': 2}\n"
     ]
    }
   ],
   "source": [
    "letterCounts = {}\n",
    "for letter in \"banana\":\n",
    "    letterCounts[letter] = letterCounts.get(letter,0) + 1\n",
    "print(letterCounts)"
   ]
  },
  {
   "cell_type": "markdown",
   "metadata": {
    "collapsed": true
   },
   "source": [
    "## 2 Estruturas Condicionais"
   ]
  },
  {
   "cell_type": "markdown",
   "metadata": {
    "collapsed": true
   },
   "source": [
    "O comando if tem a seguinte estrutura:<br>\n",
    "if condition: <br>\n",
    "&emsp; if_body <br>\n",
    "else: <br>\n",
    "   &emsp; else_body"
   ]
  },
  {
   "cell_type": "markdown",
   "metadata": {
    "collapsed": true
   },
   "source": [
    "Note que após a condição, usamos ':' e a linha a seguir deve conter um espaço antes do comando. Por exemplo, para verificarmos se um número é par:"
   ]
  },
  {
   "cell_type": "code",
   "execution_count": 121,
   "metadata": {},
   "outputs": [
    {
     "name": "stdout",
     "output_type": "stream",
     "text": [
      "x é ímpar.\n"
     ]
    }
   ],
   "source": [
    "x = 3\n",
    "if x%2 == 0: # O comando % retorna o resto da divisao\n",
    "    print('x é par.')\n",
    "else:\n",
    "    print('x é ímpar.')   "
   ]
  },
  {
   "cell_type": "markdown",
   "metadata": {
    "collapsed": true
   },
   "source": [
    "Além do comando if, podemos usar o comando elif: para combinar condicionais:"
   ]
  },
  {
   "cell_type": "code",
   "execution_count": 122,
   "metadata": {},
   "outputs": [
    {
     "name": "stdout",
     "output_type": "stream",
     "text": [
      "a is greater than b\n"
     ]
    }
   ],
   "source": [
    "a = 200\n",
    "b = 33\n",
    "if b > a:\n",
    "  print(\"b is greater than a\")\n",
    "elif a == b:\n",
    "  print(\"a and b are equal\")\n",
    "else:\n",
    "  print(\"a is greater than b\")"
   ]
  },
  {
   "cell_type": "markdown",
   "metadata": {
    "collapsed": true
   },
   "source": [
    "Podemos executar o comando em uma única linha:"
   ]
  },
  {
   "cell_type": "code",
   "execution_count": 123,
   "metadata": {},
   "outputs": [
    {
     "name": "stdout",
     "output_type": "stream",
     "text": [
      "a is greater than b\n"
     ]
    }
   ],
   "source": [
    "if a > b: print(\"a is greater than b\")"
   ]
  },
  {
   "cell_type": "markdown",
   "metadata": {
    "collapsed": true
   },
   "source": [
    "Ou então:"
   ]
  },
  {
   "cell_type": "code",
   "execution_count": 124,
   "metadata": {},
   "outputs": [
    {
     "name": "stdout",
     "output_type": "stream",
     "text": [
      "B\n"
     ]
    }
   ],
   "source": [
    "a = 3\n",
    "b = 4\n",
    "print(\"A\") if a > b else print(\"=\") if a == b else print(\"B\")"
   ]
  },
  {
   "cell_type": "markdown",
   "metadata": {},
   "source": [
    "## 3 Repetição"
   ]
  },
  {
   "cell_type": "markdown",
   "metadata": {},
   "source": [
    "As estruturas de repetição em Python incluem os laços for e while."
   ]
  },
  {
   "cell_type": "markdown",
   "metadata": {},
   "source": [
    "O laço for é usado para iterar em uma sequência, que pode ser uma lista, tupla, dicionário, set ou string. A estrutura do loop for:"
   ]
  },
  {
   "cell_type": "markdown",
   "metadata": {},
   "source": [
    "for iterator: <br>\n",
    "&emsp; commands <br>"
   ]
  },
  {
   "cell_type": "markdown",
   "metadata": {},
   "source": [
    "Por exemplo, considerando uma lista:"
   ]
  },
  {
   "cell_type": "code",
   "execution_count": 125,
   "metadata": {},
   "outputs": [
    {
     "name": "stdout",
     "output_type": "stream",
     "text": [
      "maça\n",
      "banana\n",
      "abacate\n"
     ]
    }
   ],
   "source": [
    "fruits = [\"maça\", \"banana\", \"abacate\"]\n",
    "for x in fruits:\n",
    "  print(x)"
   ]
  },
  {
   "cell_type": "markdown",
   "metadata": {},
   "source": [
    "Em uma string:"
   ]
  },
  {
   "cell_type": "code",
   "execution_count": 126,
   "metadata": {},
   "outputs": [
    {
     "name": "stdout",
     "output_type": "stream",
     "text": [
      "b\n",
      "a\n",
      "n\n",
      "a\n",
      "n\n",
      "a\n"
     ]
    }
   ],
   "source": [
    "for x in \"banana\":\n",
    "  print(x)"
   ]
  },
  {
   "cell_type": "markdown",
   "metadata": {},
   "source": [
    "Para encerrar a execução do laço for, podemos usar o comando break:"
   ]
  },
  {
   "cell_type": "code",
   "execution_count": 127,
   "metadata": {},
   "outputs": [
    {
     "name": "stdout",
     "output_type": "stream",
     "text": [
      "maça\n",
      "banana\n"
     ]
    }
   ],
   "source": [
    "fruits = [\"maça\", \"banana\", \"abacate\"]\n",
    "for x in fruits:\n",
    "  print(x) \n",
    "  if x == \"banana\":\n",
    "    break"
   ]
  },
  {
   "cell_type": "markdown",
   "metadata": {},
   "source": [
    "Podemos ainda definir o laço em um intervalo definido pela função range:"
   ]
  },
  {
   "cell_type": "code",
   "execution_count": 128,
   "metadata": {},
   "outputs": [
    {
     "name": "stdout",
     "output_type": "stream",
     "text": [
      "2\n",
      "4\n",
      "6\n"
     ]
    }
   ],
   "source": [
    "for x in range(2, 8, 2):\n",
    "  print(x)"
   ]
  },
  {
   "cell_type": "markdown",
   "metadata": {},
   "source": [
    "Podemos usar o comando else juntamente com o for:"
   ]
  },
  {
   "cell_type": "code",
   "execution_count": 129,
   "metadata": {},
   "outputs": [
    {
     "name": "stdout",
     "output_type": "stream",
     "text": [
      "0\n",
      "1\n",
      "2\n",
      "3\n",
      "4\n",
      "5\n",
      "Finally finished!\n"
     ]
    }
   ],
   "source": [
    "for x in range(6):\n",
    "  print(x)\n",
    "else:\n",
    "  print(\"Finally finished!\")"
   ]
  },
  {
   "cell_type": "markdown",
   "metadata": {},
   "source": [
    "Laço podem ser incluídos dentro de outros laços (nested loops):"
   ]
  },
  {
   "cell_type": "code",
   "execution_count": 130,
   "metadata": {},
   "outputs": [
    {
     "name": "stdout",
     "output_type": "stream",
     "text": [
      "vermelha maça\n",
      "vermelha banana\n",
      "vermelha abacate\n",
      "grande maça\n",
      "grande banana\n",
      "grande abacate\n",
      "doce maça\n",
      "doce banana\n",
      "doce abacate\n"
     ]
    }
   ],
   "source": [
    "adj = [\"vermelha\", \"grande\", \"doce\"]\n",
    "fruits = [\"maça\", \"banana\", \"abacate\"]\n",
    "\n",
    "for x in adj:\n",
    "  for y in fruits:\n",
    "    print(x, y)"
   ]
  },
  {
   "cell_type": "markdown",
   "metadata": {
    "collapsed": true
   },
   "source": [
    "No caso do laço while, a sequência de comandos é repetida equanto a condição for verdadeira:"
   ]
  },
  {
   "cell_type": "markdown",
   "metadata": {},
   "source": [
    "while condition: <br>\n",
    "&emsp; commands <br>"
   ]
  },
  {
   "cell_type": "markdown",
   "metadata": {},
   "source": [
    "Por exemplo:"
   ]
  },
  {
   "cell_type": "code",
   "execution_count": 131,
   "metadata": {},
   "outputs": [
    {
     "name": "stdout",
     "output_type": "stream",
     "text": [
      "1\n",
      "2\n",
      "3\n",
      "4\n",
      "5\n"
     ]
    }
   ],
   "source": [
    "i = 1\n",
    "while i < 6:\n",
    "  print(i)\n",
    "  i += 1"
   ]
  },
  {
   "cell_type": "markdown",
   "metadata": {},
   "source": [
    "Podemos interromper o laço com o comando break:"
   ]
  },
  {
   "cell_type": "code",
   "execution_count": 132,
   "metadata": {},
   "outputs": [
    {
     "name": "stdout",
     "output_type": "stream",
     "text": [
      "1\n",
      "2\n",
      "3\n"
     ]
    }
   ],
   "source": [
    "i = 1\n",
    "while i < 6:\n",
    "  print(i)\n",
    "  if i == 3:\n",
    "    break\n",
    "  i += 1"
   ]
  },
  {
   "cell_type": "markdown",
   "metadata": {},
   "source": [
    "## 4 Funções"
   ]
  },
  {
   "cell_type": "markdown",
   "metadata": {
    "collapsed": true
   },
   "source": [
    "Uma função é um bloco de comando que é executado quando a função é chamada. A estrutura de uma função:"
   ]
  },
  {
   "cell_type": "markdown",
   "metadata": {},
   "source": [
    "def functionname( parameters ):<br>\n",
    "&emsp; commands <br>\n",
    "&emsp; return [expression]"
   ]
  },
  {
   "cell_type": "markdown",
   "metadata": {},
   "source": [
    "Funções são úteis para:\n",
    "- Dar um nome para uma seqüência de comandos \n",
    "- Tornar o programa mais fácil de ler e de depurar.\n",
    "- Dividir um programa longo em funções permite que você separe partes do programa, depure-as isoladamente, e então as componha em um todo.\n",
    "- Funções facilitam tanto recursão quanto iteração.\n",
    "- Funções bem projetadas são freqüentemente úteis para muitos programas."
   ]
  },
  {
   "cell_type": "markdown",
   "metadata": {},
   "source": [
    "Por exemplo:"
   ]
  },
  {
   "cell_type": "code",
   "execution_count": 133,
   "metadata": {},
   "outputs": [
    {
     "name": "stdout",
     "output_type": "stream",
     "text": [
      "Eu nasci em Espanha\n",
      "Eu nasci em México\n",
      "Eu nasci em Portugal\n",
      "Eu nasci em Brazil\n"
     ]
    }
   ],
   "source": [
    "def my_function(country = \"Brazil\"):\n",
    "  print(\"Eu nasci em \" + country)\n",
    "\n",
    "my_function(\"Espanha\")\n",
    "my_function(\"México\")\n",
    "my_function(\"Portugal\")\n",
    "my_function()"
   ]
  },
  {
   "cell_type": "markdown",
   "metadata": {},
   "source": [
    "Uma função pode retornar valores:"
   ]
  },
  {
   "cell_type": "code",
   "execution_count": 134,
   "metadata": {},
   "outputs": [
    {
     "name": "stdout",
     "output_type": "stream",
     "text": [
      "15\n",
      "25\n",
      "45\n"
     ]
    }
   ],
   "source": [
    "def my_function(x):\n",
    "  return 5 * x\n",
    "\n",
    "print(my_function(3))\n",
    "print(my_function(5))\n",
    "print(my_function(9))"
   ]
  },
  {
   "cell_type": "markdown",
   "metadata": {},
   "source": [
    "Em Python, os parâmetros de uma função podem ser passados por valor ou referência. Vejam o exemplo:"
   ]
  },
  {
   "cell_type": "code",
   "execution_count": 135,
   "metadata": {},
   "outputs": [
    {
     "name": "stdout",
     "output_type": "stream",
     "text": [
      "Antes: x: [1, 2, 3] y: [0, 0]\n",
      "Depois: x: [1, 2, 3, [0, 0, 0]] y: [0, 0]\n"
     ]
    }
   ],
   "source": [
    "def change(x, y):\n",
    "    x.append([0,0,0])\n",
    "    y = [-1,-1]\n",
    "    return\n",
    "\n",
    "x = [1,2,3]\n",
    "y = [0,0]\n",
    "print(\"Antes:\", 'x:', x, 'y:', y)\n",
    "change(x,y)\n",
    "print(\"Depois:\", 'x:', x, 'y:', y)"
   ]
  },
  {
   "cell_type": "markdown",
   "metadata": {
    "collapsed": true
   },
   "source": [
    "Note que quando usamos funções, devemos definir variáveis como globais ou locais. Por exemplo:"
   ]
  },
  {
   "cell_type": "code",
   "execution_count": 136,
   "metadata": {},
   "outputs": [
    {
     "name": "stdout",
     "output_type": "stream",
     "text": [
      "Inside the function local total :  30\n",
      "Outside the function global total : 0\n"
     ]
    }
   ],
   "source": [
    "#!/usr/bin/python\n",
    "total = 0; # This is global variable.\n",
    "# Function definition is here\n",
    "def sum( arg1, arg2 ):\n",
    "   # Add both the parameters and return them.\"\n",
    "   total = arg1 + arg2; # Here total is local variable.\n",
    "   print(\"Inside the function local total : \", total)\n",
    "   return total;\n",
    "\n",
    "# Now you can call sum function\n",
    "a = sum( 10, 20 );\n",
    "print(\"Outside the function global total :\", total)"
   ]
  },
  {
   "cell_type": "markdown",
   "metadata": {},
   "source": [
    "## 5 Arquivos"
   ]
  },
  {
   "cell_type": "markdown",
   "metadata": {
    "collapsed": true
   },
   "source": [
    "Abrindo um arquivo para escrita:"
   ]
  },
  {
   "cell_type": "code",
   "execution_count": 137,
   "metadata": {},
   "outputs": [],
   "source": [
    "myfile = open('myfile.txt', 'w')"
   ]
  },
  {
   "cell_type": "markdown",
   "metadata": {},
   "source": [
    "Escreve uma linha no arquivo."
   ]
  },
  {
   "cell_type": "code",
   "execution_count": 138,
   "metadata": {},
   "outputs": [
    {
     "data": {
      "text/plain": "18"
     },
     "execution_count": 138,
     "metadata": {},
     "output_type": "execute_result"
    }
   ],
   "source": [
    "myfile.write('hello text file\\n')\n",
    "myfile.write('goodbye text file\\n')"
   ]
  },
  {
   "cell_type": "code",
   "execution_count": 139,
   "metadata": {},
   "outputs": [
    {
     "data": {
      "text/plain": "9"
     },
     "execution_count": 139,
     "metadata": {},
     "output_type": "execute_result"
    }
   ],
   "source": [
    "X, Y, Z = 43, 44, 45\n",
    "myfile.write('%s,%s,%s\\n' % (X, Y, Z))"
   ]
  },
  {
   "cell_type": "markdown",
   "metadata": {},
   "source": [
    "Fecha o arquivo:"
   ]
  },
  {
   "cell_type": "code",
   "execution_count": 140,
   "metadata": {},
   "outputs": [],
   "source": [
    "myfile.close()"
   ]
  },
  {
   "cell_type": "markdown",
   "metadata": {},
   "source": [
    "Abre o arquivo apenas para leitura."
   ]
  },
  {
   "cell_type": "code",
   "execution_count": 141,
   "metadata": {},
   "outputs": [],
   "source": [
    "myfile = open('myfile.txt')"
   ]
  },
  {
   "cell_type": "markdown",
   "metadata": {},
   "source": [
    "Lê a primeira linha do arquivo:"
   ]
  },
  {
   "cell_type": "code",
   "execution_count": 142,
   "metadata": {},
   "outputs": [
    {
     "data": {
      "text/plain": "'hello text file\\n'"
     },
     "execution_count": 142,
     "metadata": {},
     "output_type": "execute_result"
    }
   ],
   "source": [
    "myfile.readline()"
   ]
  },
  {
   "cell_type": "markdown",
   "metadata": {},
   "source": [
    "Le a próxima linha:"
   ]
  },
  {
   "cell_type": "code",
   "execution_count": 143,
   "metadata": {},
   "outputs": [
    {
     "data": {
      "text/plain": "'goodbye text file\\n'"
     },
     "execution_count": 143,
     "metadata": {},
     "output_type": "execute_result"
    }
   ],
   "source": [
    "myfile.readline()"
   ]
  },
  {
   "cell_type": "markdown",
   "metadata": {},
   "source": [
    "Lê novamente:"
   ]
  },
  {
   "cell_type": "code",
   "execution_count": 144,
   "metadata": {},
   "outputs": [
    {
     "data": {
      "text/plain": "'43,44,45\\n'"
     },
     "execution_count": 144,
     "metadata": {},
     "output_type": "execute_result"
    }
   ],
   "source": [
    "myfile.readline()"
   ]
  },
  {
   "cell_type": "code",
   "execution_count": 145,
   "metadata": {},
   "outputs": [
    {
     "data": {
      "text/plain": "''"
     },
     "execution_count": 145,
     "metadata": {},
     "output_type": "execute_result"
    }
   ],
   "source": [
    "myfile.readline()"
   ]
  },
  {
   "cell_type": "markdown",
   "metadata": {},
   "source": [
    "Podemos gerar uma tabela e escrevê-la em um arquivo com um único comando, usando a biblioteca numpy:"
   ]
  },
  {
   "cell_type": "code",
   "execution_count": 146,
   "metadata": {},
   "outputs": [
    {
     "name": "stdout",
     "output_type": "stream",
     "text": [
      "[[0.01672422 0.18560446 0.42295211 0.22448449 0.09436653 0.69178414\n",
      "  0.32691713 0.4233317  0.35136378 0.10310789]\n",
      " [0.78180008 0.94606961 0.5117643  0.27720243 0.50106121 0.26260923\n",
      "  0.07957453 0.20334205 0.33373439 0.19195018]\n",
      " [0.99077874 0.78618639 0.03862234 0.3256467  0.28601332 0.9344829\n",
      "  0.00796009 0.60273897 0.47690957 0.6222296 ]\n",
      " [0.55678931 0.12793587 0.18305381 0.539267   0.15914798 0.64252377\n",
      "  0.40121778 0.81149975 0.99685371 0.34409158]\n",
      " [0.82202395 0.41864487 0.4463488  0.22678213 0.4979937  0.96156632\n",
      "  0.83801053 0.38745784 0.17970502 0.7937766 ]\n",
      " [0.14915845 0.2982557  0.27519521 0.08825901 0.61010149 0.72764255\n",
      "  0.30281124 0.71385535 0.22389674 0.99613981]\n",
      " [0.49517536 0.89337383 0.6281114  0.33949542 0.34117035 0.80620796\n",
      "  0.99215884 0.07253576 0.93072086 0.79750079]\n",
      " [0.15123485 0.81518039 0.4361693  0.46827401 0.95488514 0.35993979\n",
      "  0.9185265  0.64910623 0.28851255 0.36018345]\n",
      " [0.66474466 0.67297403 0.19183125 0.88485959 0.80751988 0.19022798\n",
      "  0.73279215 0.55841443 0.21261806 0.4810015 ]\n",
      " [0.73061648 0.30112073 0.20466681 0.80967118 0.53397109 0.05146364\n",
      "  0.60794136 0.84639588 0.35396044 0.04937326]]\n"
     ]
    }
   ],
   "source": [
    "import numpy as np\n",
    "x = np.random.rand(10,10)\n",
    "print(x)\n",
    "np.savetxt('dados.txt', x, delimiter=',', fmt='%1.3f')"
   ]
  },
  {
   "cell_type": "markdown",
   "metadata": {},
   "source": [
    "Para efetuarmos a leitura:"
   ]
  },
  {
   "cell_type": "code",
   "execution_count": 147,
   "metadata": {},
   "outputs": [
    {
     "name": "stdout",
     "output_type": "stream",
     "text": [
      "[[0.017 0.186 0.423 0.224 0.094 0.692 0.327 0.423 0.351 0.103]\n",
      " [0.782 0.946 0.512 0.277 0.501 0.263 0.08  0.203 0.334 0.192]\n",
      " [0.991 0.786 0.039 0.326 0.286 0.934 0.008 0.603 0.477 0.622]\n",
      " [0.557 0.128 0.183 0.539 0.159 0.643 0.401 0.811 0.997 0.344]\n",
      " [0.822 0.419 0.446 0.227 0.498 0.962 0.838 0.387 0.18  0.794]\n",
      " [0.149 0.298 0.275 0.088 0.61  0.728 0.303 0.714 0.224 0.996]\n",
      " [0.495 0.893 0.628 0.339 0.341 0.806 0.992 0.073 0.931 0.798]\n",
      " [0.151 0.815 0.436 0.468 0.955 0.36  0.919 0.649 0.289 0.36 ]\n",
      " [0.665 0.673 0.192 0.885 0.808 0.19  0.733 0.558 0.213 0.481]\n",
      " [0.731 0.301 0.205 0.81  0.534 0.051 0.608 0.846 0.354 0.049]]\n"
     ]
    }
   ],
   "source": [
    "dt = np.loadtxt('dados.txt',delimiter=',')\n",
    "print(dt)"
   ]
  },
  {
   "cell_type": "markdown",
   "metadata": {},
   "source": [
    "## 6 Gráficos"
   ]
  },
  {
   "cell_type": "markdown",
   "metadata": {
    "collapsed": true
   },
   "source": [
    "Para graficar os dados, usamos a biblioteca Matplotlib."
   ]
  },
  {
   "cell_type": "code",
   "execution_count": 159,
   "metadata": {},
   "outputs": [],
   "source": [
    "import matplotlib.pyplot as plt"
   ]
  },
  {
   "cell_type": "code",
   "execution_count": 160,
   "metadata": {},
   "outputs": [
    {
     "data": {
      "text/plain": "<Figure size 432x288 with 1 Axes>",
      "image/png": "[encoded data removed]"
     },
     "metadata": {},
     "output_type": "display_data"
    }
   ],
   "source": [
    "x = np.arange(0,2*np.pi, 0.1)\n",
    "y = np.sin(x)\n",
    "z = np.cos(x)\n",
    "plt.plot(x, y, marker='s', linestyle='-', color=\"blue\", linewidth=2.5, label='Função seno')\n",
    "plt.plot(x, z, marker='*', linestyle='-', color=\"red\", linewidth=2.5, label='Função cosseno')\n",
    "plt.xlabel(\"x\", fontsize=20)\n",
    "plt.ylabel(\"f(x)\", fontsize=20)\n",
    "plt.legend()\n",
    "plt.show(True)"
   ]
  },
  {
   "cell_type": "markdown",
   "metadata": {},
   "source": [
    "Podemos graficar os dados usando a função scatterplot:"
   ]
  },
  {
   "cell_type": "code",
   "execution_count": 161,
   "metadata": {},
   "outputs": [
    {
     "data": {
      "text/plain": "<Figure size 432x288 with 1 Axes>",
      "image/png": "[encoded data removed]"
     },
     "metadata": {},
     "output_type": "display_data"
    }
   ],
   "source": [
    "n = 1000\n",
    "X = np.random.normal(0,1,n)\n",
    "Y = np.random.normal(0,1,n)\n",
    "plt.xlabel(\"x\", fontsize=20)\n",
    "plt.ylabel(\"Y\", fontsize=20)\n",
    "plt.scatter(X,Y)\n",
    "plt.show(True)"
   ]
  },
  {
   "cell_type": "markdown",
   "metadata": {},
   "source": [
    "Gráficos de barras:"
   ]
  },
  {
   "cell_type": "code",
   "execution_count": 162,
   "metadata": {},
   "outputs": [
    {
     "data": {
      "text/plain": "<Figure size 432x288 with 1 Axes>",
      "image/png": "[encoded data removed]"
     },
     "metadata": {},
     "output_type": "display_data"
    }
   ],
   "source": [
    "n = 12\n",
    "X = np.arange(n)\n",
    "Y1 = (1 - X / float(n)) * np.random.uniform(0.5, 1.0, n)\n",
    "Y2 = (1 - X / float(n)) * np.random.uniform(0.5, 1.0, n)\n",
    "plt.bar(X, +Y1, facecolor='#9999ff', edgecolor='white')\n",
    "plt.bar(X, -Y2, facecolor='#ff9999', edgecolor='white')\n",
    "for x, y in zip(X, Y1): #Mostra os valores\n",
    "    plt.text(x + 0.4, y + 0.05, '%.2f' % y, ha='center', va= 'bottom')\n",
    "plt.ylim(-1.25, +1.25)\n",
    "plt.show(True)       "
   ]
  },
  {
   "cell_type": "markdown",
   "metadata": {},
   "source": [
    "Gráficos de contorno:"
   ]
  },
  {
   "cell_type": "code",
   "execution_count": 163,
   "metadata": {},
   "outputs": [
    {
     "data": {
      "text/plain": "<Figure size 432x288 with 1 Axes>",
      "image/png": "[encoded data removed]"
     },
     "metadata": {},
     "output_type": "display_data"
    }
   ],
   "source": [
    "def f(x, y):\n",
    "    return (1 - x / 2 + x ** 5 + y ** 3) * np.exp(-x ** 2 -y ** 2)\n",
    "n = 256\n",
    "x = np.linspace(-3, 3, n)\n",
    "y = np.linspace(-3, 3, n)\n",
    "X, Y = np.meshgrid(x, y)\n",
    "plt.contourf(X, Y, f(X, Y), 8, alpha=.75, cmap='jet')\n",
    "plt.contour(X, Y, f(X, Y), 8, colors='black')\n",
    "plt.show(True)"
   ]
  },
  {
   "cell_type": "markdown",
   "metadata": {},
   "source": [
    "Grafo de setores:"
   ]
  },
  {
   "cell_type": "code",
   "execution_count": 164,
   "metadata": {},
   "outputs": [
    {
     "data": {
      "text/plain": "<Figure size 432x288 with 1 Axes>",
      "image/png": "[encoded data removed]"
     },
     "metadata": {},
     "output_type": "display_data"
    }
   ],
   "source": [
    "Z = np.random.uniform(0, 1, 20)\n",
    "plt.pie(Z)\n",
    "plt.show(True)"
   ]
  },
  {
   "cell_type": "markdown",
   "metadata": {},
   "source": [
    "Podemos mostras os dados em 3D:"
   ]
  },
  {
   "cell_type": "code",
   "execution_count": 165,
   "metadata": {},
   "outputs": [
    {
     "name": "stderr",
     "output_type": "stream",
     "text": [
      "/var/folders/r9/wxyy11vn2gl34ldw9tn2n87c0000gn/T/ipykernel_87141/185178409.py:3: MatplotlibDeprecationWarning: Axes3D(fig) adding itself to the figure is deprecated since 3.4. Pass the keyword argument auto_add_to_figure=False and use fig.add_axes(ax) to suppress this warning. The default value of auto_add_to_figure will change to False in mpl3.5 and True values will no longer work in 3.6.  This is consistent with other Axes classes.\n",
      "  ax = Axes3D(fig)\n"
     ]
    },
    {
     "data": {
      "text/plain": "<Figure size 432x288 with 1 Axes>",
      "image/png": "[encoded data removed]"
     },
     "metadata": {},
     "output_type": "display_data"
    }
   ],
   "source": [
    "from mpl_toolkits.mplot3d import Axes3D\n",
    "fig = plt.figure()\n",
    "ax = Axes3D(fig)\n",
    "X = np.arange(-4, 4, 0.25)\n",
    "Y = np.arange(-4, 4, 0.25)\n",
    "X, Y = np.meshgrid(X, Y)\n",
    "R = np.sqrt(X**2 + Y**2)\n",
    "Z = np.sin(R)\n",
    "ax.plot_surface(X, Y, Z, rstride=1, cstride=1, cmap='hot')\n",
    "plt.show(True)"
   ]
  },
  {
   "cell_type": "markdown",
   "metadata": {},
   "source": [
    "Histogramas:"
   ]
  },
  {
   "cell_type": "code",
   "execution_count": 166,
   "metadata": {},
   "outputs": [
    {
     "data": {
      "text/plain": "<Figure size 432x288 with 1 Axes>",
      "image/png": "[encoded data removed]"
     },
     "metadata": {},
     "output_type": "display_data"
    }
   ],
   "source": [
    "data = np.random.randn(100)\n",
    "plt.hist(data);\n",
    "plt.show(True)"
   ]
  },
  {
   "cell_type": "markdown",
   "metadata": {},
   "source": [
    "Podemos definir ainda o número de intervalos."
   ]
  },
  {
   "cell_type": "code",
   "execution_count": 167,
   "metadata": {},
   "outputs": [
    {
     "data": {
      "text/plain": "<Figure size 432x288 with 1 Axes>",
      "image/png": "[encoded data removed]"
     },
     "metadata": {},
     "output_type": "display_data"
    }
   ],
   "source": [
    "x = [21,22,23,4,5,6,77,8,9,10,31,32,33,34,35,36,37,18,49,50,100]\n",
    "num_bins = 10\n",
    "n, bins, patches = plt.hist(x, num_bins, facecolor='blue', alpha=0.5)\n",
    "plt.show()"
   ]
  },
  {
   "cell_type": "markdown",
   "metadata": {},
   "source": [
    "Ou ainda definir de forma automática:"
   ]
  },
  {
   "cell_type": "code",
   "execution_count": 168,
   "metadata": {},
   "outputs": [
    {
     "data": {
      "text/plain": "<Figure size 432x288 with 1 Axes>",
      "image/png": "[encoded data removed]"
     },
     "metadata": {},
     "output_type": "display_data"
    }
   ],
   "source": [
    "n, bins, patches = plt.hist(x, bins='auto', facecolor='blue', alpha=0.5)\n",
    "plt.show()"
   ]
  },
  {
   "cell_type": "markdown",
   "metadata": {},
   "source": [
    "Podemos mostrar ainda mais de um histograma ao mesmo tempo."
   ]
  },
  {
   "cell_type": "code",
   "execution_count": 169,
   "metadata": {},
   "outputs": [
    {
     "data": {
      "text/plain": "<Figure size 432x288 with 1 Axes>",
      "image/png": "[encoded data removed]"
     },
     "metadata": {},
     "output_type": "display_data"
    }
   ],
   "source": [
    "x1 = np.random.normal(0, 0.8, 1000) #mu = 0, sigma = 0.8\n",
    "x2 = np.random.normal(-2, 1, 1000)\n",
    "x3 = np.random.normal(3, 2, 1000)\n",
    "\n",
    "kwargs = dict(histtype='stepfilled', alpha=0.3, density=True, bins=40)\n",
    "\n",
    "plt.hist(x1, **kwargs)\n",
    "plt.hist(x2, **kwargs)\n",
    "plt.hist(x3, **kwargs)\n",
    "\n",
    "plt.show(True)"
   ]
  },
  {
   "cell_type": "markdown",
   "metadata": {},
   "source": [
    "## 7 Classes e objetos (Em elaboração)"
   ]
  },
  {
   "cell_type": "markdown",
   "metadata": {
    "collapsed": true
   },
   "source": [
    "https://realpython.com/python3-object-oriented-programming/"
   ]
  },
  {
   "cell_type": "markdown",
   "metadata": {},
   "source": [
    "Usando programação orientada a objetos, podemos definir processos como herança e polimorfismo. Os leitores interessados pode consultar:<r>\n",
    "    https://realpython.com/python3-object-oriented-programming/<br>\n",
    "    https://www.tutorialspoint.com/python/python_classes_objects.htm"
   ]
  },
  {
   "cell_type": "markdown",
   "metadata": {
    "collapsed": true
   },
   "source": [
    "## 5 Exercícios"
   ]
  },
  {
   "cell_type": "markdown",
   "metadata": {},
   "source": [
    "1 - Verifique se um número é positivo, negativo ou zero."
   ]
  },
  {
   "cell_type": "markdown",
   "metadata": {},
   "source": [
    "2 - Implemente uma função que calcule o fatorial de um número."
   ]
  },
  {
   "cell_type": "markdown",
   "metadata": {},
   "source": [
    "3 - Calcule a sequencia de Fibonacci."
   ]
  },
  {
   "cell_type": "markdown",
   "metadata": {},
   "source": [
    "4 - Calcule os números primos em um intervalo definido."
   ]
  },
  {
   "cell_type": "markdown",
   "metadata": {},
   "source": [
    "5 - Implemente uma funçã que calcule a soma de uma sequência de números."
   ]
  },
  {
   "cell_type": "markdown",
   "metadata": {},
   "source": [
    "6 - Gere dois vetores aleatórios de maneira independente e mostre os resultados em um scatterplot."
   ]
  },
  {
   "cell_type": "markdown",
   "metadata": {},
   "source": [
    "7 - Gere dados com distribuição Gaussiana e mostre o respectivo histograma."
   ]
  },
  {
   "cell_type": "markdown",
   "metadata": {},
   "source": [
    "8 - Gere uma tabela onde os valores das colunas seguem uma distribuição exponencial com diferentes taxas. Guarde os valores em um arquivo."
   ]
  },
  {
   "cell_type": "markdown",
   "metadata": {},
   "source": [
    "## 6 Leituras adicionais"
   ]
  },
  {
   "cell_type": "markdown",
   "metadata": {},
   "source": [
    "Para aprender mais sobre como acessar os índices de vetores e matrizes: http://www.pythoninformer.com/python-libraries/numpy/index-and-slice/"
   ]
  },
  {
   "cell_type": "code",
   "execution_count": 172,
   "outputs": [
    {
     "data": {
      "text/plain": "10"
     },
     "execution_count": 172,
     "metadata": {},
     "output_type": "execute_result"
    }
   ],
   "source": [
    " a = [1,2,3,4,5,6,7,8,9,10]\n",
    "\n",
    "a[-1]"
   ],
   "metadata": {
    "collapsed": false
   }
  },
  {
   "cell_type": "code",
   "execution_count": null,
   "outputs": [],
   "source": [],
   "metadata": {
    "collapsed": false
   }
  }
 ],
 "metadata": {
  "kernelspec": {
   "display_name": "Python 3",
   "language": "python",
   "name": "python3"
  },
  "language_info": {
   "codemirror_mode": {
    "name": "ipython",
    "version": 3
   },
   "file_extension": ".py",
   "mimetype": "text/x-python",
   "name": "python",
   "nbconvert_exporter": "python",
   "pygments_lexer": "ipython3",
   "version": "3.7.4"
  }
 },
 "nbformat": 4,
 "nbformat_minor": 2
}
